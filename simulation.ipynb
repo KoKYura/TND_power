{
 "cells": [
  {
   "cell_type": "code",
   "execution_count": null,
   "id": "2dd1f330-1bd1-4866-831b-20dd728c44f1",
   "metadata": {},
   "outputs": [],
   "source": [
    "using Pkg\n",
    "Pkg.add(\"Distributions\")\n",
    "Pkg.add(\"DataFrames\")\n",
    "Pkg.add(\"Distributions\")\n",
    "Pkg.add(\"GLM\")\n",
    "Pkg.add(\"CSV\")"
   ]
  },
  {
   "cell_type": "code",
   "execution_count": null,
   "id": "d469086a-7336-4c74-bf44-09d3005e22a8",
   "metadata": {},
   "outputs": [],
   "source": [
    "using DataFrames\n",
    "using Distributions\n",
    "using GLM\n",
    "using Random\n",
    "using CSV"
   ]
  },
  {
   "cell_type": "markdown",
   "id": "c9cdc44f-0600-4b7b-abd1-1ed5e567fdbe",
   "metadata": {},
   "source": [
    "## Assumptions¶"
   ]
  },
  {
   "cell_type": "code",
   "execution_count": null,
   "id": "2713f02d-8e6d-450c-bf8f-9fad76949f67",
   "metadata": {},
   "outputs": [],
   "source": [
    "# VE\n",
    "#https://www.thelancet.com/action/showPdf?pii=S0140-6736%2815%2900725-4\n",
    "\n",
    "# 1. Dose 3 > 24 months or Dose 0-2: Control: VE 0%\n",
    "# 2. Dose 4 <= 6 months: VE 50%\n",
    "# 3. Dose 4 > 6 months: VE 30%\n",
    "# 4. Dose 4 > 12 months: VE 10%\n",
    "# 5. Dose 3 <= 6 months: VE 50%\n",
    "# 6. Dose 3 > 6 months: VE 30%\n",
    "# 7. Dose 3 > 12 months: VE 10%\n",
    "ve_g = [0,0.5,0.3,0.1,0.5,0.3,0.1]"
   ]
  },
  {
   "cell_type": "code",
   "execution_count": null,
   "id": "59d8cf6d-35b2-45e2-bab2-978e1e1f373b",
   "metadata": {},
   "outputs": [],
   "source": [
    "# Proportion for each vaccine group among the general population\n",
    "prop_neg_g = [0.328,0.063,0.063,0.449,0.026,0.026,0.045]"
   ]
  },
  {
   "cell_type": "code",
   "execution_count": null,
   "id": "1f0ae074-de49-4c62-85fe-36d47a659620",
   "metadata": {},
   "outputs": [],
   "source": [
    "# test sens and spec\n",
    "sens = 0.6\n",
    "spec = 0.98"
   ]
  },
  {
   "cell_type": "code",
   "execution_count": null,
   "id": "e4eddea2-169c-4be9-a617-252ac1fdef58",
   "metadata": {},
   "outputs": [],
   "source": [
    "# Among symptoms without vaccine, 30% is TD\n",
    "prob_case = 0.3"
   ]
  },
  {
   "cell_type": "markdown",
   "id": "365bdbdb-1049-426e-80a8-c7ea99cee180",
   "metadata": {},
   "source": [
    "## Functions"
   ]
  },
  {
   "cell_type": "code",
   "execution_count": null,
   "id": "973326c8-12e2-4bd0-8969-1a7eb0a8ebe6",
   "metadata": {},
   "outputs": [],
   "source": [
    "logit(x) = log(x/(1-x))\n",
    "invlogit(x) = 1/(1+exp(-x))"
   ]
  },
  {
   "cell_type": "code",
   "execution_count": null,
   "id": "3aa25e61-a01c-4a74-a163-be85cf6a3652",
   "metadata": {},
   "outputs": [],
   "source": [
    "function get_prop_g(prob_case::Float64, prop_neg_g::Vector{Float64}, ve_g::Vector{Float64})\n",
    "    total_num = Matrix{Float64}(undef, length(prop_neg_g), 2)\n",
    "    prob_pos = invlogit.(logit(prob_case) .+ log.(1 .- ve_g))\n",
    "    total_num[:, 1] = prop_neg_g .* prob_pos ./ (1 .- prob_pos)\n",
    "    total_num[:, 2] = prop_neg_g\n",
    "    prop_g = (total_num[:, 1] .+ total_num[:, 2]) ./ sum(total_num)\n",
    "    return prop_g\n",
    "end"
   ]
  },
  {
   "cell_type": "code",
   "execution_count": null,
   "id": "b82dbc39-a7e6-4c4c-9f2a-102fd72f94b4",
   "metadata": {},
   "outputs": [],
   "source": [
    "# Based on codes of Endo et al. \n",
    "# https://github.com/akira-endo/TND-biascorrection\n",
    "\n",
    "function get_misclassified(y_::Vector{Int}, sens::Float64, spec::Float64)\n",
    "    true_TD = sum(y_)\n",
    "    true_ND = length(y_) - true_TD\n",
    "    \n",
    "    sample_pos = [\n",
    "        rand(Binomial(true_TD, sens)),\n",
    "        rand(Binomial(true_ND, 1 - spec))\n",
    "    ]\n",
    "    \n",
    "    obs_TD = vcat(\n",
    "        findall(x -> x == 1, y_)[1:sample_pos[1]],\n",
    "        findall(x -> x == 0, y_)[1:sample_pos[2]]\n",
    "    )\n",
    "    \n",
    "    y_obs_ = zeros(Int, length(y_))\n",
    "    y_obs_[obs_TD] .= 1\n",
    "    \n",
    "    return y_obs_\n",
    "end"
   ]
  },
  {
   "cell_type": "code",
   "execution_count": null,
   "id": "a3b05b36-bd0d-496f-8fcd-833de3ec1875",
   "metadata": {},
   "outputs": [],
   "source": [
    "function simulate_data(n::Int, prob_case::Float64, prop_g::Vector{Float64}, ve_g::Vector{Float64}, sens::Float64, spec::Float64)\n",
    "\n",
    "    n_g = [round(Int, n * p) for p in prop_g]\n",
    "    \n",
    "    df_sim = DataFrame(group=String[], y_true=Int[], y_obs=Int[])\n",
    "    \n",
    "    for g in 1:7\n",
    "        group = \"group$g\"\n",
    "        prob = invlogit(logit(prob_case) + log(1 - ve_g[g]))\n",
    "        y_true = rand(Binomial(1, prob), n_g[g])\n",
    "        y_obs = get_misclassified(y_true, sens, spec)\n",
    "        \n",
    "        df_sim_g = DataFrame(group=fill(group, n_g[g]), y_true=y_true, y_obs=y_obs)\n",
    "        append!(df_sim, df_sim_g)\n",
    "    end\n",
    "    \n",
    "    return df_sim\n",
    "end"
   ]
  },
  {
   "cell_type": "code",
   "execution_count": null,
   "id": "d19f5716-53d2-4511-9914-03187c6b0501",
   "metadata": {},
   "outputs": [],
   "source": [
    "# Based on codes of Endo et al. \n",
    "# https://github.com/akira-endo/TND-biascorrection\n",
    "\n",
    "n_iter = 100\n",
    "function get_ve_corrected(df_sim::DataFrame, sens::Float64, spec::Float64)\n",
    "    res_bs = DataFrame(group=String[], est_bs=Float64[])\n",
    "    \n",
    "    for iter in 1:n_iter\n",
    "\n",
    "        indices = sample(1:nrow(df_sim), nrow(df_sim), replace=true)\n",
    "        df_sim_bs = df_sim[indices, :]\n",
    "        \n",
    "        glm_bs = glm(@formula(y_obs ~ group), df_sim_bs, Binomial(), LogitLink())\n",
    "        \n",
    "        D_pos = filter(row -> row[:y_obs] == 1, df_sim_bs)\n",
    "        D_neg = filter(row -> row[:y_obs] == 0, df_sim_bs)\n",
    "        phat_pos = predict(glm_bs, D_pos)\n",
    "        phat_neg = predict(glm_bs, D_neg)\n",
    "        pflip_pos = clamp.((sens * (1 .- phat_pos) ./ phat_pos .- (1 .- sens)) .* ((1 .- spec) ./ (sens .+ spec .- 1)), 0, 1)\n",
    "        pflip_neg = clamp.((spec * phat_neg ./ (1 .- phat_neg) .- (1 .- spec)) .* ((1 .- sens) ./ (sens .+ spec .- 1)), 0, 1)\n",
    "        \n",
    "        n_pos = nrow(D_pos)\n",
    "        n_neg = nrow(D_neg)\n",
    "        idflip_pos = rand(n_pos) .< pflip_pos\n",
    "        idflip_neg = rand(n_neg) .< pflip_neg\n",
    "        \n",
    "        copy_d_pos = deepcopy(D_pos)\n",
    "        copy_d_neg = deepcopy(D_neg)\n",
    "        copy_d_pos.y_cor = copy_d_pos.y_obs\n",
    "        copy_d_neg.y_cor = copy_d_neg.y_obs\n",
    "        \n",
    "        copy_d_pos[idflip_pos, :y_cor] .= 0\n",
    "        copy_d_neg[idflip_neg, :y_cor] .= 1\n",
    "        \n",
    "        data = vcat(copy_d_pos, copy_d_neg)\n",
    "        \n",
    "        glm_cor = glm(@formula(y_cor ~ group), data, Binomial(), LogitLink())\n",
    "        coef_table = coeftable(glm_cor)  \n",
    "        coef_df = DataFrame(coef_table)\n",
    "        \n",
    "        for g in 2:7\n",
    "            group_name = \"group$g\"\n",
    "            est_bs = 1 - exp(coef_df[g,2]) \n",
    "            push!(res_bs, (group_name, est_bs))\n",
    "        end\n",
    "    end\n",
    "    \n",
    "        df_est_med = combine(groupby(res_bs, :group), \n",
    "                            :est_bs => median => :est_bs_med)\n",
    "        df_est_l = combine(groupby(res_bs, :group), \n",
    "                            :est_bs => x -> quantile(x, 0.025))\n",
    "        rename!(df_est_l, :est_bs_function => :est_bs_l)\n",
    "        df_est_u = combine(groupby(res_bs, :group), \n",
    "                            :est_bs => x -> quantile(x, 0.975))\n",
    "        rename!(df_est_u, :est_bs_function => :est_bs_u)\n",
    "        \n",
    "        df_est_ = leftjoin(df_est_med, df_est_l, on = :group)\n",
    "        df_est_bs = leftjoin(df_est_, df_est_u, on = :group)\n",
    "        \n",
    "        df_est_bs.sdif_bs = (df_est_bs.est_bs_l .> 0) .& (df_est_bs.est_bs_u .> 0)\n",
    "    \n",
    "    return df_est_bs\n",
    "end"
   ]
  },
  {
   "cell_type": "code",
   "execution_count": null,
   "id": "04fb087f-8dff-4d5a-b836-04f426628499",
   "metadata": {},
   "outputs": [],
   "source": [
    "function get_est(n, prob_case, prop_neg_g, ve_g, sens, spec, null)\n",
    "    \n",
    "    prop_g = get_prop_g(prob_case, prop_neg_g, ve_g)\n",
    "    df_sim = simulate_data(n, prob_case, prop_g, ve_g, sens, spec)\n",
    "    \n",
    "    glm_true = glm(@formula(y_true ~ group), df_sim, Binomial(), LogitLink())\n",
    "    glm_obs = glm(@formula(y_obs ~ group), df_sim, Binomial(), LogitLink())\n",
    "\n",
    "    coef_true = DataFrame(coeftable(glm_true))\n",
    "    coef_obs = DataFrame(coeftable(glm_obs))\n",
    "    \n",
    "    df_est_uncorrected = DataFrame()\n",
    "    for g in 2:7\n",
    "        group_name = \"group$(g)\"\n",
    "        est_true = 1 - exp(coef_true[g,2])\n",
    "        l_true = 1 - exp(coef_true[g,7])\n",
    "        u_true = 1 - exp(coef_true[g,6])\n",
    "\n",
    "        est_obs = 1 - exp(coef_obs[g,2])\n",
    "        l_obs = 1 - exp(coef_obs[g,7])\n",
    "        u_obs = 1 - exp(coef_obs[g,6])\n",
    "        \n",
    "        df_est_uncorrected_ = DataFrame(n = n,\n",
    "                                        group = group_name,\n",
    "                                        est_true = est_true,\n",
    "                                        l_true = l_true,\n",
    "                                        u_true = u_true,\n",
    "                                        est_obs = est_obs,\n",
    "                                        l_obs = l_obs,\n",
    "                                        u_obs = u_obs)\n",
    "        append!(df_est_uncorrected, df_est_uncorrected_)\n",
    "    end\n",
    "   \n",
    "    df_est_corrected = get_ve_corrected(df_sim, sens, spec)\n",
    "    \n",
    "    df_est = leftjoin(df_est_uncorrected, df_est_corrected, on = :group)\n",
    "    df_est.null .= null\n",
    "    \n",
    "    return df_est\n",
    "end"
   ]
  },
  {
   "cell_type": "markdown",
   "id": "4f175164-0225-4e85-b81f-f647a74b5a2a",
   "metadata": {},
   "source": [
    "## Simulations"
   ]
  },
  {
   "cell_type": "code",
   "execution_count": null,
   "id": "bbbd5938-d657-4762-8317-decf060d09a8",
   "metadata": {},
   "outputs": [],
   "source": [
    "ve_g = [0,0.5,0.3,0.1,0.5,0.3,0.1]\n",
    "prop_neg_g = [0.328,0.063,0.063,0.449,0.026,0.026,0.045]\n",
    "prob_case = 0.3\n",
    "spec = 0.98\n",
    "\n",
    "n_sim = 1000 # total number of simulations for power calculation\n",
    "\n",
    "df_est = DataFrame()\n",
    "for n_ in 5000:1000:10000\n",
    "    for sens_ in [0.60, 0.80, 0.95]\n",
    "        println(\"N: $n_\")\n",
    "        \n",
    "        df_est_true = vcat([get_est(n_, prob_case, prop_neg_g, ve_g, sens_, spec, \"true\") for _ in 1:n_sim]...)\n",
    "        df_est_true.sens = fill(sens_, nrow(df_est_true))\n",
    "        \n",
    "        df_est_null = vcat([get_est(n_, prob_case, prop_neg_g, [0.0, 0.0, 0.0, 0.0, 0.0, 0.0, 0.0], sens_, spec, \"null\") for _ in 1:n_sim]...)\n",
    "        df_est_null.sens = fill(sens_, nrow(df_est_null))\n",
    "        \n",
    "        append!(df_est, df_est_true)\n",
    "        append!(df_est, df_est_null)\n",
    "        \n",
    "        CSV.write(\"df_est.csv\", df_est)\n",
    "    end\n",
    "end"
   ]
  }
 ],
 "metadata": {
  "kernelspec": {
   "display_name": "Julia 1.11.5",
   "language": "julia",
   "name": "julia-1.11"
  },
  "language_info": {
   "file_extension": ".jl",
   "mimetype": "application/julia",
   "name": "julia",
   "version": "1.11.5"
  }
 },
 "nbformat": 4,
 "nbformat_minor": 5
}
