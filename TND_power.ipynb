{
 "cells": [
  {
   "cell_type": "code",
   "execution_count": 1,
   "id": "7ba43fb5",
   "metadata": {
    "scrolled": true
   },
   "outputs": [
    {
     "name": "stderr",
     "output_type": "stream",
     "text": [
      "\u001b[32m\u001b[1m   Resolving\u001b[22m\u001b[39m package versions...\n",
      "\u001b[32m\u001b[1m  No Changes\u001b[22m\u001b[39m to `~/.julia/environments/v1.10/Project.toml`\n",
      "\u001b[32m\u001b[1m  No Changes\u001b[22m\u001b[39m to `~/.julia/environments/v1.10/Manifest.toml`\n",
      "\u001b[32m\u001b[1mPrecompiling\u001b[22m\u001b[39m project...\n",
      "\u001b[91m  ✗ \u001b[39m\u001b[90mAdapt → AdaptStaticArraysExt\u001b[39m\n",
      "\u001b[91m  ✗ \u001b[39m\u001b[90mPyCall\u001b[39m\n",
      "\u001b[91m  ✗ \u001b[39m\u001b[90mBinaryProvider\u001b[39m\n",
      "\u001b[91m  ✗ \u001b[39m\u001b[90mParquet\u001b[39m\n",
      "\u001b[91m  ✗ \u001b[39m\u001b[90mExcelReaders\u001b[39m\n",
      "\u001b[91m  ✗ \u001b[39m\u001b[90mParquetFiles\u001b[39m\n",
      "\u001b[91m  ✗ \u001b[39m\u001b[90mExcelFiles\u001b[39m\n",
      "\u001b[91m  ✗ \u001b[39mQueryverse\n",
      "  0 dependencies successfully precompiled in 8 seconds. 308 already precompiled.\n",
      "  \u001b[91m8\u001b[39m dependencies errored.\n",
      "  For a report of the errors see `julia> err`. To retry use `pkg> precompile`\n",
      "\u001b[32m\u001b[1m   Resolving\u001b[22m\u001b[39m package versions...\n",
      "\u001b[32m\u001b[1m  No Changes\u001b[22m\u001b[39m to `~/.julia/environments/v1.10/Project.toml`\n",
      "\u001b[32m\u001b[1m  No Changes\u001b[22m\u001b[39m to `~/.julia/environments/v1.10/Manifest.toml`\n",
      "\u001b[32m\u001b[1m   Resolving\u001b[22m\u001b[39m package versions...\n",
      "\u001b[32m\u001b[1m  No Changes\u001b[22m\u001b[39m to `~/.julia/environments/v1.10/Project.toml`\n",
      "\u001b[32m\u001b[1m  No Changes\u001b[22m\u001b[39m to `~/.julia/environments/v1.10/Manifest.toml`\n",
      "\u001b[32m\u001b[1m   Resolving\u001b[22m\u001b[39m package versions...\n",
      "\u001b[32m\u001b[1m  No Changes\u001b[22m\u001b[39m to `~/.julia/environments/v1.10/Project.toml`\n",
      "\u001b[32m\u001b[1m  No Changes\u001b[22m\u001b[39m to `~/.julia/environments/v1.10/Manifest.toml`\n",
      "\u001b[32m\u001b[1m   Resolving\u001b[22m\u001b[39m package versions...\n",
      "\u001b[32m\u001b[1m  No Changes\u001b[22m\u001b[39m to `~/.julia/environments/v1.10/Project.toml`\n",
      "\u001b[32m\u001b[1m  No Changes\u001b[22m\u001b[39m to `~/.julia/environments/v1.10/Manifest.toml`\n"
     ]
    }
   ],
   "source": [
    "using Pkg\n",
    "Pkg.add(\"Distributions\")\n",
    "Pkg.add(\"DataFrames\")\n",
    "Pkg.add(\"Distributions\")\n",
    "Pkg.add(\"GLM\")\n",
    "Pkg.add(\"CSV\")"
   ]
  },
  {
   "cell_type": "code",
   "execution_count": 2,
   "id": "e107cb0f",
   "metadata": {},
   "outputs": [],
   "source": [
    "using DataFrames\n",
    "using Distributions\n",
    "using GLM\n",
    "using Random\n",
    "using CSV"
   ]
  },
  {
   "cell_type": "markdown",
   "id": "83c6569a-7561-4711-af20-9455bdc6aa09",
   "metadata": {},
   "source": [
    "## Assumptions"
   ]
  },
  {
   "cell_type": "code",
   "execution_count": 3,
   "id": "286270a1-4c64-4a6b-b276-fbdfedb3ed6f",
   "metadata": {
    "scrolled": true
   },
   "outputs": [
    {
     "data": {
      "text/plain": [
       "7-element Vector{Float64}:\n",
       " 0.0\n",
       " 0.5\n",
       " 0.3\n",
       " 0.1\n",
       " 0.5\n",
       " 0.3\n",
       " 0.1"
      ]
     },
     "execution_count": 3,
     "metadata": {},
     "output_type": "execute_result"
    }
   ],
   "source": [
    "# VE\n",
    "#https://www.thelancet.com/action/showPdf?pii=S0140-6736%2815%2900725-4\n",
    "\n",
    "# 1. Dose 3 > 24 months or Dose 0-2: Control: VE 0%\n",
    "# 2. Dose 4 <= 6 months: VE 50%\n",
    "# 3. Dose 4 > 6 months: VE 30%\n",
    "# 4. Dose 4 > 12 months: VE 10%\n",
    "# 5. Dose 3 <= 6 months: VE 50%\n",
    "# 6. Dose 3 > 6 months: VE 30%\n",
    "# 7. Dose 3 > 12 months: VE 10%\n",
    "\n",
    "ve_g = [0,0.5,0.3,0.1,0.5,0.3,0.1]"
   ]
  },
  {
   "cell_type": "code",
   "execution_count": 4,
   "id": "bdb4bbe6-ffcb-419c-ad5b-0b61fb530e6c",
   "metadata": {
    "scrolled": true
   },
   "outputs": [
    {
     "data": {
      "text/plain": [
       "7-element Vector{Float64}:\n",
       " 0.328\n",
       " 0.063\n",
       " 0.063\n",
       " 0.449\n",
       " 0.026\n",
       " 0.026\n",
       " 0.045"
      ]
     },
     "execution_count": 4,
     "metadata": {},
     "output_type": "execute_result"
    }
   ],
   "source": [
    "# Proportion for each vaccine group among the general population\n",
    "\n",
    "prop_neg_g = [0.328,0.063,0.063,0.449,0.026,0.026,0.045]"
   ]
  },
  {
   "cell_type": "code",
   "execution_count": 5,
   "id": "5df7d833-1b70-4117-a2dc-501ba6150485",
   "metadata": {},
   "outputs": [
    {
     "data": {
      "text/plain": [
       "0.98"
      ]
     },
     "execution_count": 5,
     "metadata": {},
     "output_type": "execute_result"
    }
   ],
   "source": [
    "# test sens and spec\n",
    "\n",
    "sens = 0.6\n",
    "spec = 0.98"
   ]
  },
  {
   "cell_type": "code",
   "execution_count": 6,
   "id": "3cf74f89-77bb-4213-a86b-938ec8f776ea",
   "metadata": {},
   "outputs": [
    {
     "data": {
      "text/plain": [
       "0.3"
      ]
     },
     "execution_count": 6,
     "metadata": {},
     "output_type": "execute_result"
    }
   ],
   "source": [
    "# Among symptoms without vaccine, 30% is TD\n",
    "\n",
    "prob_case = 0.3"
   ]
  },
  {
   "cell_type": "markdown",
   "id": "0fbcdf55-6439-4cc5-bac1-8234ffabe16f",
   "metadata": {},
   "source": [
    "## Functions"
   ]
  },
  {
   "cell_type": "code",
   "execution_count": 7,
   "id": "5c835679-38a9-4602-b1d1-af4fe0540bc4",
   "metadata": {},
   "outputs": [
    {
     "data": {
      "text/plain": [
       "invlogit (generic function with 1 method)"
      ]
     },
     "execution_count": 7,
     "metadata": {},
     "output_type": "execute_result"
    }
   ],
   "source": [
    "logit(x) = log(x/(1-x))\n",
    "invlogit(x) = 1/(1+exp(-x))"
   ]
  },
  {
   "cell_type": "code",
   "execution_count": 10,
   "id": "32917576-8fb2-4fe9-8bfb-65f2a9fe02b2",
   "metadata": {},
   "outputs": [
    {
     "data": {
      "text/plain": [
       "get_prop_g (generic function with 1 method)"
      ]
     },
     "execution_count": 10,
     "metadata": {},
     "output_type": "execute_result"
    }
   ],
   "source": [
    "function get_prop_g(prob_case::Float64, prop_neg_g::Vector{Float64}, ve_g::Vector{Float64})\n",
    "    total_num = Matrix{Float64}(undef, length(prop_neg_g), 2)\n",
    "    prob_pos = invlogit.(logit(prob_case) .+ log.(1 .- ve_g))\n",
    "    total_num[:, 1] = prop_neg_g .* prob_pos ./ (1 .- prob_pos)\n",
    "    total_num[:, 2] = prop_neg_g\n",
    "    prop_g = (total_num[:, 1] .+ total_num[:, 2]) ./ sum(total_num)\n",
    "    return prop_g\n",
    "end"
   ]
  },
  {
   "cell_type": "code",
   "execution_count": 11,
   "id": "3f481cb0-b822-43dc-8d67-61adfae93db8",
   "metadata": {},
   "outputs": [
    {
     "data": {
      "text/plain": [
       "get_misclassified (generic function with 1 method)"
      ]
     },
     "execution_count": 11,
     "metadata": {},
     "output_type": "execute_result"
    }
   ],
   "source": [
    "# Based on codes of Endo et al. \n",
    "# https://github.com/akira-endo/TND-biascorrection\n",
    "\n",
    "function get_misclassified(y_::Vector{Int}, sens::Float64, spec::Float64)\n",
    "    true_TD = sum(y_)\n",
    "    true_ND = length(y_) - true_TD\n",
    "    \n",
    "    sample_pos = [\n",
    "        rand(Binomial(true_TD, sens)),\n",
    "        rand(Binomial(true_ND, 1 - spec))\n",
    "    ]\n",
    "    \n",
    "    obs_TD = vcat(\n",
    "        findall(x -> x == 1, y_)[1:sample_pos[1]],\n",
    "        findall(x -> x == 0, y_)[1:sample_pos[2]]\n",
    "    )\n",
    "    \n",
    "    y_obs_ = zeros(Int, length(y_))\n",
    "    y_obs_[obs_TD] .= 1\n",
    "    \n",
    "    return y_obs_\n",
    "end\n"
   ]
  },
  {
   "cell_type": "code",
   "execution_count": 16,
   "id": "c9ba667f-7945-475d-9836-57169a4af546",
   "metadata": {},
   "outputs": [
    {
     "data": {
      "text/plain": [
       "simulate_data (generic function with 2 methods)"
      ]
     },
     "execution_count": 16,
     "metadata": {},
     "output_type": "execute_result"
    }
   ],
   "source": [
    "function simulate_data(n::Int, prob_case::Float64, prop_g::Vector{Float64}, ve_g::Vector{Float64}, sens::Float64, spec::Float64)\n",
    "\n",
    "    n_g = [round(Int, n * p) for p in prop_g]\n",
    "    \n",
    "    df_sim = DataFrame(group=String[], y_true=Int[], y_obs=Int[])\n",
    "    \n",
    "    for g in 1:7\n",
    "        group = \"group$g\"\n",
    "        prob = invlogit(logit(prob_case) + log(1 - ve_g[g]))\n",
    "        y_true = rand(Binomial(1, prob), n_g[g])\n",
    "        y_obs = get_misclassified(y_true, sens, spec)\n",
    "        \n",
    "        df_sim_g = DataFrame(group=fill(group, n_g[g]), y_true=y_true, y_obs=y_obs)\n",
    "        append!(df_sim, df_sim_g)\n",
    "    end\n",
    "    \n",
    "    return df_sim\n",
    "end"
   ]
  },
  {
   "cell_type": "code",
   "execution_count": 13,
   "id": "5a45c6a0-aac3-4325-bcaf-3889d218f90b",
   "metadata": {},
   "outputs": [
    {
     "data": {
      "text/plain": [
       "get_ve_corrected (generic function with 1 method)"
      ]
     },
     "execution_count": 13,
     "metadata": {},
     "output_type": "execute_result"
    }
   ],
   "source": [
    "# Based on codes of Endo et al. \n",
    "# https://github.com/akira-endo/TND-biascorrection\n",
    "\n",
    "n_iter = 100\n",
    "function get_ve_corrected(df_sim::DataFrame, sens::Float64, spec::Float64)\n",
    "    res_bs = DataFrame(group=String[], est_bs=Float64[])\n",
    "    \n",
    "    for iter in 1:n_iter\n",
    "\n",
    "        indices = sample(1:nrow(df_sim), nrow(df_sim), replace=true)\n",
    "        df_sim_bs = df_sim[indices, :]\n",
    "        \n",
    "        glm_bs = glm(@formula(y_obs ~ group), df_sim_bs, Binomial(), LogitLink())\n",
    "        \n",
    "        D_pos = filter(row -> row[:y_obs] == 1, df_sim_bs)\n",
    "        D_neg = filter(row -> row[:y_obs] == 0, df_sim_bs)\n",
    "        phat_pos = predict(glm_bs, D_pos)\n",
    "        phat_neg = predict(glm_bs, D_neg)\n",
    "        pflip_pos = clamp.((sens * (1 .- phat_pos) ./ phat_pos .- (1 .- sens)) .* ((1 .- spec) ./ (sens .+ spec .- 1)), 0, 1)\n",
    "        pflip_neg = clamp.((spec * phat_neg ./ (1 .- phat_neg) .- (1 .- spec)) .* ((1 .- sens) ./ (sens .+ spec .- 1)), 0, 1)\n",
    "        \n",
    "        n_pos = nrow(D_pos)\n",
    "        n_neg = nrow(D_neg)\n",
    "        idflip_pos = rand(n_pos) .< pflip_pos\n",
    "        idflip_neg = rand(n_neg) .< pflip_neg\n",
    "        \n",
    "        copy_d_pos = deepcopy(D_pos)\n",
    "        copy_d_neg = deepcopy(D_neg)\n",
    "        copy_d_pos.y_cor = copy_d_pos.y_obs\n",
    "        copy_d_neg.y_cor = copy_d_neg.y_obs\n",
    "        \n",
    "        copy_d_pos[idflip_pos, :y_cor] .= 0\n",
    "        copy_d_neg[idflip_neg, :y_cor] .= 1\n",
    "        \n",
    "        data = vcat(copy_d_pos, copy_d_neg)\n",
    "        \n",
    "        glm_cor = glm(@formula(y_cor ~ group), data, Binomial(), LogitLink())\n",
    "        coef_table = coeftable(glm_cor)  \n",
    "        coef_df = DataFrame(coef_table)\n",
    "        \n",
    "        for g in 2:7\n",
    "            group_name = \"group$g\"\n",
    "            est_bs = 1 - exp(coef_df[g,2]) \n",
    "            push!(res_bs, (group_name, est_bs))\n",
    "        end\n",
    "    end\n",
    "    \n",
    "        df_est_med = combine(groupby(res_bs, :group), \n",
    "                            :est_bs => median => :est_bs_med)\n",
    "        df_est_l = combine(groupby(res_bs, :group), \n",
    "                            :est_bs => x -> quantile(x, 0.025))\n",
    "        rename!(df_est_l, :est_bs_function => :est_bs_l)\n",
    "        df_est_u = combine(groupby(res_bs, :group), \n",
    "                            :est_bs => x -> quantile(x, 0.975))\n",
    "        rename!(df_est_u, :est_bs_function => :est_bs_u)\n",
    "        \n",
    "        df_est_ = leftjoin(df_est_med, df_est_l, on = :group)\n",
    "        df_est_bs = leftjoin(df_est_, df_est_u, on = :group)\n",
    "        \n",
    "        df_est_bs.sdif_bs = (df_est_bs.est_bs_l .> 0) .& (df_est_bs.est_bs_u .> 0)\n",
    "    \n",
    "    return df_est_bs\n",
    "end\n"
   ]
  },
  {
   "cell_type": "code",
   "execution_count": 17,
   "id": "21bf0577-7313-4742-8d1d-03c8976181aa",
   "metadata": {},
   "outputs": [
    {
     "data": {
      "text/plain": [
       "get_est (generic function with 1 method)"
      ]
     },
     "execution_count": 17,
     "metadata": {},
     "output_type": "execute_result"
    }
   ],
   "source": [
    "function get_est(n, prob_case, prop_neg_g, ve_g, sens, spec, null)\n",
    "    \n",
    "    prop_g = get_prop_g(prob_case, prop_neg_g, ve_g)\n",
    "    df_sim = simulate_data(n, prob_case, prop_g, ve_g, sens, spec)\n",
    "    \n",
    "    glm_true = glm(@formula(y_true ~ group), df_sim, Binomial(), LogitLink())\n",
    "    glm_obs = glm(@formula(y_obs ~ group), df_sim, Binomial(), LogitLink())\n",
    "\n",
    "    coef_true = DataFrame(coeftable(glm_true))\n",
    "    coef_obs = DataFrame(coeftable(glm_obs))\n",
    "    \n",
    "    df_est_uncorrected = DataFrame()\n",
    "    for g in 2:7\n",
    "        group_name = \"group$(g)\"\n",
    "        est_true = 1 - exp(coef_true[g,2])\n",
    "        l_true = 1 - exp(coef_true[g,7])\n",
    "        u_true = 1 - exp(coef_true[g,6])\n",
    "\n",
    "        est_obs = 1 - exp(coef_obs[g,2])\n",
    "        l_obs = 1 - exp(coef_obs[g,7])\n",
    "        u_obs = 1 - exp(coef_obs[g,6])\n",
    "        \n",
    "        df_est_uncorrected_ = DataFrame(n = n,\n",
    "                                        group = group_name,\n",
    "                                        est_true = est_true,\n",
    "                                        l_true = l_true,\n",
    "                                        u_true = u_true,\n",
    "                                        est_obs = est_obs,\n",
    "                                        l_obs = l_obs,\n",
    "                                        u_obs = u_obs)\n",
    "        append!(df_est_uncorrected, df_est_uncorrected_)\n",
    "    end\n",
    "   \n",
    "    df_est_corrected = get_ve_corrected(df_sim, sens, spec)\n",
    "    \n",
    "    df_est = leftjoin(df_est_uncorrected, df_est_corrected, on = :group)\n",
    "    df_est.null .= null\n",
    "    \n",
    "    return df_est\n",
    "end"
   ]
  },
  {
   "cell_type": "markdown",
   "id": "a441434d-811c-425e-b2a8-8cc1b2880d0a",
   "metadata": {},
   "source": [
    "## Simulations"
   ]
  },
  {
   "cell_type": "code",
   "execution_count": 19,
   "id": "c18eecb1-f31d-4b8a-bc88-c21d6dd226d0",
   "metadata": {},
   "outputs": [
    {
     "name": "stdout",
     "output_type": "stream",
     "text": [
      "N: 5000\n",
      "N: 6000\n",
      "N: 7000\n",
      "N: 8000\n",
      "N: 9000\n",
      "N: 10000\n",
      "3676.223288 seconds (18.45 G allocations: 4.133 TiB, 3.03% gc time, 0.01% compilation time)\n"
     ]
    }
   ],
   "source": [
    "ve_g = [0,0.5,0.3,0.1,0.5,0.3,0.1]\n",
    "prop_neg_g = [0.328,0.063,0.063,0.449,0.026,0.026,0.045]\n",
    "prob_case = 0.3\n",
    "sens = 0.95\n",
    "spec = 0.98\n",
    "\n",
    "n_sim = 500 # total number of simulations for power calculation\n",
    "\n",
    "df_est = DataFrame()\n",
    "@time begin\n",
    "    for n_ in 5000:1000:10000\n",
    "        println(\"N: $n_\")\n",
    "        \n",
    "        df_est_true = vcat([get_est(n_, prob_case, prop_neg_g, ve_g, sens, spec, \"true\") for _ in 1:n_sim]...)\n",
    "        df_est_null = vcat([get_est(n_, prob_case, prop_neg_g, [0.0, 0.0, 0.0, 0.0, 0.0, 0.0, 0.0], sens, spec, \"null\") for _ in 1:n_sim]...)\n",
    "    \n",
    "        append!(df_est, df_est_true)\n",
    "        append!(df_est, df_est_null)\n",
    "        \n",
    "        CSV.write(\"df_est.csv\", df_est)\n",
    "    end\n",
    "end"
   ]
  },
  {
   "cell_type": "code",
   "execution_count": null,
   "id": "0e910a4c-3318-414e-af01-35e0a4e12043",
   "metadata": {},
   "outputs": [],
   "source": []
  }
 ],
 "metadata": {
  "kernelspec": {
   "display_name": "Julia 1.10.3",
   "language": "julia",
   "name": "julia-1.10"
  },
  "language_info": {
   "file_extension": ".jl",
   "mimetype": "application/julia",
   "name": "julia",
   "version": "1.10.5"
  }
 },
 "nbformat": 4,
 "nbformat_minor": 5
}
